{
  "nbformat": 4,
  "nbformat_minor": 0,
  "metadata": {
    "colab": {
      "name": "Untitled1.ipynb",
      "provenance": [],
      "authorship_tag": "ABX9TyOlMpLfE3MEF7rwqjqD4x27",
      "include_colab_link": true
    },
    "kernelspec": {
      "name": "python3",
      "display_name": "Python 3"
    },
    "language_info": {
      "name": "python"
    }
  },
  "cells": [
    {
      "cell_type": "markdown",
      "metadata": {
        "id": "view-in-github",
        "colab_type": "text"
      },
      "source": [
        "<a href=\"https://colab.research.google.com/github/DimpiTiwary/Python_tutorial/blob/main/List_example.ipynb\" target=\"_parent\"><img src=\"https://colab.research.google.com/assets/colab-badge.svg\" alt=\"Open In Colab\"/></a>"
      ]
    },
    {
      "cell_type": "code",
      "execution_count": 5,
      "metadata": {
        "colab": {
          "base_uri": "https://localhost:8080/"
        },
        "id": "zKAyigKFKyXv",
        "outputId": "9731f95d-3f81-4be8-f550-252eccbb013f"
      },
      "outputs": [
        {
          "output_type": "stream",
          "name": "stdout",
          "text": [
            "[1 2 3 4 5]\n",
            "<class 'numpy.ndarray'>\n"
          ]
        }
      ],
      "source": [
        "#NumPy\n",
        "import numpy as np\n",
        "arr = np.array([1,2,3,4,5])\n",
        "print(arr)\n",
        "print(type(arr))\n",
        "\n"
      ]
    },
    {
      "cell_type": "code",
      "source": [
        "#Array\n",
        "arr = np.array([1,2,3,4,5])\n",
        "#List\n",
        "a= [\"Room Number1\" , \"Room Number2\" , \" Room Number3\" , \" Room Number4\" , \"Room Number5\"]\n",
        "b = [1990 ,2000 , 2001 ,2002 , 2003 , 2004 ]\n",
        "c = list((\"Apple\" , 123 , True))\n",
        "print(arr)\n",
        "print(a)\n",
        "print(b)\n",
        "print(c)\n",
        "\n"
      ],
      "metadata": {
        "colab": {
          "base_uri": "https://localhost:8080/"
        },
        "id": "ykGw6Yt3M784",
        "outputId": "a081d0cf-9990-4f74-d368-ae6072152a51"
      },
      "execution_count": 15,
      "outputs": [
        {
          "output_type": "stream",
          "name": "stdout",
          "text": [
            "[1 2 3 4 5]\n",
            "['Room Number1', 'Room Number2', ' Room Number3', ' Room Number4', 'Room Number5']\n",
            "[1990, 2000, 2001, 2002, 2003, 2004]\n",
            "['Apple', 123, True]\n"
          ]
        }
      ]
    },
    {
      "cell_type": "code",
      "source": [
        "print(type(arr))\n",
        "print(type(a))\n",
        "print(type(b))\n",
        "print(type(b[2]), b[2])\n",
        "print(type(a[0]), a[1])\n",
        "print(type(c[2]))"
      ],
      "metadata": {
        "colab": {
          "base_uri": "https://localhost:8080/"
        },
        "id": "o99bXuc-M_Cj",
        "outputId": "cea68f15-665e-48b1-dec8-ea505ed6a5d2"
      },
      "execution_count": 19,
      "outputs": [
        {
          "output_type": "stream",
          "name": "stdout",
          "text": [
            "<class 'numpy.ndarray'>\n",
            "<class 'list'>\n",
            "<class 'list'>\n",
            "<class 'int'> 2001\n",
            "<class 'str'> Room Number2\n",
            "<class 'bool'>\n"
          ]
        }
      ]
    },
    {
      "cell_type": "markdown",
      "source": [
        ""
      ],
      "metadata": {
        "id": "r8ehSZBVNAxq"
      }
    },
    {
      "cell_type": "markdown",
      "source": [
        ""
      ],
      "metadata": {
        "id": "APuTQ7z_NK2C"
      }
    }
  ]
}