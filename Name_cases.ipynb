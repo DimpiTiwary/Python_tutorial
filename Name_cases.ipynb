{
 "cells": [
  {
   "cell_type": "markdown",
   "id": "407e31d6",
   "metadata": {},
   "source": [
    "##### Name cases: Store a person name in a variable and then print that person's name in upper, lower, title, capitalize,split functions.                                                                                                                                                           ### join() is used to get a particular file from a location."
   ]
  },
  {
   "cell_type": "code",
   "execution_count": 5,
   "id": "5a551dfb",
   "metadata": {},
   "outputs": [],
   "source": [
    "person_name = \"barack Obama\""
   ]
  },
  {
   "cell_type": "code",
   "execution_count": 6,
   "id": "69b3966e",
   "metadata": {},
   "outputs": [
    {
     "name": "stdout",
     "output_type": "stream",
     "text": [
      "barack obama\n"
     ]
    }
   ],
   "source": [
    "print(person_name.lower())"
   ]
  },
  {
   "cell_type": "code",
   "execution_count": 7,
   "id": "8f2fa08c",
   "metadata": {},
   "outputs": [
    {
     "name": "stdout",
     "output_type": "stream",
     "text": [
      "BARACK OBAMA\n"
     ]
    }
   ],
   "source": [
    "print(person_name.upper())"
   ]
  },
  {
   "cell_type": "code",
   "execution_count": 9,
   "id": "23159c79",
   "metadata": {},
   "outputs": [
    {
     "name": "stdout",
     "output_type": "stream",
     "text": [
      "Barack Obama\n"
     ]
    }
   ],
   "source": [
    "print(person_name.title())"
   ]
  },
  {
   "cell_type": "code",
   "execution_count": 10,
   "id": "9b043528",
   "metadata": {},
   "outputs": [
    {
     "name": "stdout",
     "output_type": "stream",
     "text": [
      "lower case of name:barack obama\n"
     ]
    }
   ],
   "source": [
    "print(\"lower case of name:\" + person_name.lower())"
   ]
  },
  {
   "cell_type": "code",
   "execution_count": 11,
   "id": "e1bfba85",
   "metadata": {},
   "outputs": [
    {
     "name": "stdout",
     "output_type": "stream",
     "text": [
      "upper case of name:BARACK OBAMA\n"
     ]
    }
   ],
   "source": [
    "print(\"upper case of name:\" + person_name.upper())"
   ]
  },
  {
   "cell_type": "code",
   "execution_count": 13,
   "id": "f3e80393",
   "metadata": {},
   "outputs": [
    {
     "name": "stdout",
     "output_type": "stream",
     "text": [
      "title case of name:Barack Obama\n"
     ]
    }
   ],
   "source": [
    "print(\"title case of name:\" + person_name.title())"
   ]
  },
  {
   "cell_type": "code",
   "execution_count": 14,
   "id": "8ad86f97",
   "metadata": {},
   "outputs": [
    {
     "name": "stdout",
     "output_type": "stream",
     "text": [
      "string swapcase of nameBARACK oBAMA\n"
     ]
    }
   ],
   "source": [
    "print(\"string swapcase of name\" + person_name.swapcase())"
   ]
  },
  {
   "cell_type": "code",
   "execution_count": 18,
   "id": "027dc3e0",
   "metadata": {},
   "outputs": [
    {
     "name": "stdout",
     "output_type": "stream",
     "text": [
      "Barack obama\n"
     ]
    }
   ],
   "source": [
    "print(person_name.capitalize())"
   ]
  },
  {
   "cell_type": "code",
   "execution_count": 19,
   "id": "51ad26b9",
   "metadata": {},
   "outputs": [
    {
     "name": "stdout",
     "output_type": "stream",
     "text": [
      "['barack', 'Obama']\n"
     ]
    }
   ],
   "source": [
    "print(person_name.split())"
   ]
  },
  {
   "cell_type": "code",
   "execution_count": 34,
   "id": "eafd28e7",
   "metadata": {},
   "outputs": [
    {
     "name": "stdout",
     "output_type": "stream",
     "text": [
      "c://User//Dimpi\n"
     ]
    }
   ],
   "source": [
    "myTuple = (\"c:\", \"User\", \"Dimpi\")\n",
    "\n",
    "print(\"//\".join(myTuple))"
   ]
  }
 ],
 "metadata": {
  "kernelspec": {
   "display_name": "Python 3 (ipykernel)",
   "language": "python",
   "name": "python3"
  },
  "language_info": {
   "codemirror_mode": {
    "name": "ipython",
    "version": 3
   },
   "file_extension": ".py",
   "mimetype": "text/x-python",
   "name": "python",
   "nbconvert_exporter": "python",
   "pygments_lexer": "ipython3",
   "version": "3.9.7"
  }
 },
 "nbformat": 4,
 "nbformat_minor": 5
}
